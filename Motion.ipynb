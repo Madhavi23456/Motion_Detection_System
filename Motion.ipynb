{
 "cells": [
  {
   "cell_type": "code",
   "execution_count": 1,
   "metadata": {},
   "outputs": [
    {
     "name": "stdout",
     "output_type": "stream",
     "text": [
      "Collecting pygame\n",
      "  Downloading pygame-2.6.1-cp312-cp312-win_amd64.whl.metadata (13 kB)\n",
      "Downloading pygame-2.6.1-cp312-cp312-win_amd64.whl (10.6 MB)\n",
      "   ---------------------------------------- 0.0/10.6 MB ? eta -:--:--\n",
      "   ---------------------------------------- 0.0/10.6 MB ? eta -:--:--\n",
      "   ---------------------------------------- 0.0/10.6 MB 330.3 kB/s eta 0:00:33\n",
      "    --------------------------------------- 0.2/10.6 MB 1.5 MB/s eta 0:00:07\n",
      "   --- ------------------------------------ 0.9/10.6 MB 6.1 MB/s eta 0:00:02\n",
      "   ------ --------------------------------- 1.9/10.6 MB 9.1 MB/s eta 0:00:01\n",
      "   ----------- ---------------------------- 2.9/10.6 MB 12.6 MB/s eta 0:00:01\n",
      "   -------------- ------------------------- 3.9/10.6 MB 13.7 MB/s eta 0:00:01\n",
      "   ------------------- -------------------- 5.2/10.6 MB 15.7 MB/s eta 0:00:01\n",
      "   ----------------------- ---------------- 6.3/10.6 MB 16.8 MB/s eta 0:00:01\n",
      "   -------------------------- ------------- 7.1/10.6 MB 16.7 MB/s eta 0:00:01\n",
      "   ------------------------------- -------- 8.3/10.6 MB 17.6 MB/s eta 0:00:01\n",
      "   --------------------------------- ------ 8.9/10.6 MB 17.3 MB/s eta 0:00:01\n",
      "   -------------------------------------- - 10.1/10.6 MB 17.9 MB/s eta 0:00:01\n",
      "   ---------------------------------------  10.6/10.6 MB 22.6 MB/s eta 0:00:01\n",
      "   ---------------------------------------- 10.6/10.6 MB 20.5 MB/s eta 0:00:00\n",
      "Installing collected packages: pygame\n",
      "Note: you may need to restart the kernel to use updated packages.\n"
     ]
    },
    {
     "name": "stderr",
     "output_type": "stream",
     "text": [
      "ERROR: Could not install packages due to an OSError: [WinError 5] Access is denied: 'c:\\\\Python312\\\\Include\\\\pygame'\n",
      "Consider using the `--user` option or check the permissions.\n",
      "\n",
      "\n",
      "[notice] A new release of pip is available: 24.0 -> 24.2\n",
      "[notice] To update, run: python.exe -m pip install --upgrade pip\n"
     ]
    }
   ],
   "source": [
    "pip install pygame"
   ]
  },
  {
   "cell_type": "code",
   "execution_count": 4,
   "metadata": {},
   "outputs": [
    {
     "ename": "KeyboardInterrupt",
     "evalue": "",
     "output_type": "error",
     "traceback": [
      "\u001b[1;31m---------------------------------------------------------------------------\u001b[0m",
      "\u001b[1;31mKeyboardInterrupt\u001b[0m                         Traceback (most recent call last)",
      "Cell \u001b[1;32mIn[4], line 55\u001b[0m\n\u001b[0;32m     53\u001b[0m \u001b[38;5;66;03m# Save the frame when motion is detected\u001b[39;00m\n\u001b[0;32m     54\u001b[0m \u001b[38;5;28;01mif\u001b[39;00m cur_frame \u001b[38;5;129;01mis\u001b[39;00m \u001b[38;5;129;01mnot\u001b[39;00m \u001b[38;5;28;01mNone\u001b[39;00m:            \n\u001b[1;32m---> 55\u001b[0m     \u001b[38;5;28;01mif\u001b[39;00m \u001b[38;5;129;01mnot\u001b[39;00m \u001b[43mcv2\u001b[49m\u001b[38;5;241;43m.\u001b[39;49m\u001b[43mimwrite\u001b[49m\u001b[43m(\u001b[49m\u001b[38;5;124;43mf\u001b[39;49m\u001b[38;5;124;43m\"\u001b[39;49m\u001b[38;5;132;43;01m{\u001b[39;49;00m\u001b[43mframe_save_path\u001b[49m\u001b[38;5;132;43;01m}\u001b[39;49;00m\u001b[38;5;124;43m/\u001b[39;49m\u001b[38;5;132;43;01m{\u001b[39;49;00m\u001b[43mdatetime\u001b[49m\u001b[38;5;241;43m.\u001b[39;49m\u001b[43mnow\u001b[49m\u001b[43m(\u001b[49m\u001b[43m)\u001b[49m\u001b[38;5;241;43m.\u001b[39;49m\u001b[43mstrftime\u001b[49m\u001b[43m(\u001b[49m\u001b[38;5;124;43m'\u001b[39;49m\u001b[38;5;124;43m%\u001b[39;49m\u001b[38;5;124;43mY-\u001b[39;49m\u001b[38;5;124;43m%\u001b[39;49m\u001b[38;5;124;43mm-\u001b[39;49m\u001b[38;5;132;43;01m%d\u001b[39;49;00m\u001b[38;5;124;43m_\u001b[39;49m\u001b[38;5;124;43m%\u001b[39;49m\u001b[38;5;124;43mH-\u001b[39;49m\u001b[38;5;124;43m%\u001b[39;49m\u001b[38;5;124;43mM-\u001b[39;49m\u001b[38;5;124;43m%\u001b[39;49m\u001b[38;5;124;43mS\u001b[39;49m\u001b[38;5;124;43m'\u001b[39;49m\u001b[43m)\u001b[49m\u001b[38;5;132;43;01m}\u001b[39;49;00m\u001b[38;5;124;43m.jpg\u001b[39;49m\u001b[38;5;124;43m\"\u001b[39;49m\u001b[43m,\u001b[49m\u001b[43m \u001b[49m\u001b[43mcur_frame\u001b[49m\u001b[43m)\u001b[49m:\n\u001b[0;32m     56\u001b[0m         \u001b[38;5;28mprint\u001b[39m(\u001b[38;5;124m\"\u001b[39m\u001b[38;5;124mError saving frame\u001b[39m\u001b[38;5;124m\"\u001b[39m)\n\u001b[0;32m     57\u001b[0m \u001b[38;5;28;01melse\u001b[39;00m:\n",
      "\u001b[1;31mKeyboardInterrupt\u001b[0m: "
     ]
    }
   ],
   "source": [
    "\n",
    "import pandas as pd\n",
    "import cv2\n",
    "import time\n",
    "from datetime import datetime\n",
    "import pygame\n",
    "import os\n",
    "\n",
    "# Initialize Pygame for sound\n",
    "pygame.mixer.init()\n",
    "alarm_sound = pygame.mixer.Sound('Audio.wav')  # Replace 'alarm.wav' with your sound file\n",
    "\n",
    "initial_state = None\n",
    "motion_track_list = [None, None]\n",
    "motion_time = []\n",
    "data_frame = pd.DataFrame(columns=[\"Initial\", \"Final\"])\n",
    "\n",
    "video = cv2.VideoCapture(0)\n",
    "\n",
    "# Motion sensitivity control (adjustable threshold)\n",
    "motion_sensitivity = 30  # Initial threshold\n",
    "\n",
    "# Folder to save frames on motion\n",
    "frame_save_path = \"MotionFrames\"\n",
    "if not os.path.exists(frame_save_path):\n",
    "    os.makedirs(frame_save_path)\n",
    "\n",
    "while True:\n",
    "    check, cur_frame = video.read()\n",
    "    if not check:\n",
    "        print(\"Failed to capture. Please check the camera\")\n",
    "        break\n",
    "    var_motion = 0\n",
    "    gray_image = cv2.cvtColor(cur_frame, cv2.COLOR_BGR2GRAY)\n",
    "    gray_frame = cv2.GaussianBlur(gray_image, (21, 21), 0)\n",
    "\n",
    "    if initial_state is None:\n",
    "        initial_state = gray_frame\n",
    "        continue\n",
    "\n",
    "    differ_frame = cv2.absdiff(initial_state, gray_frame)\n",
    "    thresh_frame = cv2.threshold(differ_frame, motion_sensitivity, 255, cv2.THRESH_BINARY)[1]\n",
    "    thresh_frame = cv2.dilate(thresh_frame, None, iterations=2)\n",
    "\n",
    "    contours, _ = cv2.findContours(thresh_frame.copy(), cv2.RETR_EXTERNAL, cv2.CHAIN_APPROX_SIMPLE)\n",
    "\n",
    "    for contour in contours:\n",
    "        if cv2.contourArea(contour) < 10000:\n",
    "            continue\n",
    "        var_motion = 1\n",
    "        x, y, w, h = cv2.boundingRect(contour)\n",
    "        cv2.rectangle(cur_frame, (x, y), (x + w, y + h), (0, 255, 0), 3)\n",
    "\n",
    "        # Save the frame when motion is detected\n",
    "        if cur_frame is not None:            \n",
    "            if not cv2.imwrite(f\"{frame_save_path}/{datetime.now().strftime('%Y-%m-%d_%H-%M-%S')}.jpg\", cur_frame):\n",
    "                print(\"Error saving frame\")\n",
    "        else:\n",
    "            print(\"Current frame is None.\")\n",
    "\n",
    "    motion_track_list.append(var_motion)\n",
    "    motion_track_list = motion_track_list[-2:]\n",
    "\n",
    "    if motion_track_list[-1] == 1 and motion_track_list[-2] == 0:\n",
    "        motion_time.append(datetime.now())\n",
    "        pygame.mixer.Sound.play(alarm_sound)  # Play the alarm sound when motion starts\n",
    "\n",
    "    if motion_track_list[-1] == 0 and motion_track_list[-2] == 1:\n",
    "        motion_time.append(datetime.now())\n",
    "\n",
    "    cv2.imshow(\"Gray Frame\", gray_frame)\n",
    "    cv2.imshow(\"Difference Frame\", differ_frame)\n",
    "    cv2.imshow(\"Threshold Frame\", thresh_frame)\n",
    "    cv2.imshow(\"Color Frame\", cur_frame)\n",
    "\n",
    "    wait_key = cv2.waitKey(1)\n",
    "\n",
    "    if wait_key == ord('m'):\n",
    "        if var_motion == 1:\n",
    "            motion_time.append(datetime.now())\n",
    "        break\n",
    "\n",
    "for a in range(0, len(motion_time), 2):\n",
    "    data_frame = data_frame.append({\"Initial\": motion_time[a], \"Final\": motion_time[a + 1]}, ignore_index=True)\n",
    "\n",
    "data_frame.to_csv(\"EachMovement.csv\")\n",
    "video.release()\n",
    "cv2.destroyAllWindows()\n"
   ]
  }
 ],
 "metadata": {
  "kernelspec": {
   "display_name": "Python 3",
   "language": "python",
   "name": "python3"
  },
  "language_info": {
   "codemirror_mode": {
    "name": "ipython",
    "version": 3
   },
   "file_extension": ".py",
   "mimetype": "text/x-python",
   "name": "python",
   "nbconvert_exporter": "python",
   "pygments_lexer": "ipython3",
   "version": "3.12.3"
  }
 },
 "nbformat": 4,
 "nbformat_minor": 2
}
